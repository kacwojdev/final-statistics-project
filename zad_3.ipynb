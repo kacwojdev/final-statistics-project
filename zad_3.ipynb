{
 "cells": [
  {
   "cell_type": "code",
   "execution_count": 8,
   "id": "1ba793ba-cc28-48c8-b122-77f0cdaefa85",
   "metadata": {},
   "outputs": [
    {
     "name": "stdout",
     "output_type": "stream",
     "text": [
      "\u001b[?25lvenvs are in \u001b[1m/Users/kacper.wojnowski@schibsted.com/.local/pipx/venvs\u001b[0m\n",
      "apps are exposed on your $PATH at \u001b[1m/Users/kacper.wojnowski@schibsted.com/.local/bin\u001b[0m\n",
      "manual pages are exposed at \u001b[1m/Users/kacper.wojnowski@schibsted.com/.local/share/man\u001b[0m\n",
      "   package \u001b[1mnumpy\u001b[0m \u001b[1m2.0.0\u001b[0m, installed using Python 3.12.4\n",
      "    - f2py\n",
      "    - numpy-config\n",
      "   package \u001b[1myfinance\u001b[0m \u001b[1m0.2.40\u001b[0m, installed using Python 3.12.4\n",
      "    - sample\n",
      "\u001b[?25h"
     ]
    }
   ],
   "source": [
    "!"
   ]
  },
  {
   "cell_type": "code",
   "execution_count": 10,
   "id": "c72a5ace-e95c-4de1-b86b-fe861b610930",
   "metadata": {},
   "outputs": [
    {
     "ename": "ModuleNotFoundError",
     "evalue": "No module named 'yfinance'",
     "output_type": "error",
     "traceback": [
      "\u001b[0;31m---------------------------------------------------------------------------\u001b[0m",
      "\u001b[0;31mModuleNotFoundError\u001b[0m                       Traceback (most recent call last)",
      "Cell \u001b[0;32mIn[10], line 1\u001b[0m\n\u001b[0;32m----> 1\u001b[0m \u001b[38;5;28;01mimport\u001b[39;00m \u001b[38;5;21;01myfinance\u001b[39;00m \u001b[38;5;28;01mas\u001b[39;00m \u001b[38;5;21;01myf\u001b[39;00m\n",
      "\u001b[0;31mModuleNotFoundError\u001b[0m: No module named 'yfinance'"
     ]
    }
   ],
   "source": [
    "import yfinance as yf"
   ]
  },
  {
   "cell_type": "code",
   "execution_count": null,
   "id": "0575a7d0-0022-4131-bd6d-b743eb327c15",
   "metadata": {},
   "outputs": [],
   "source": [
    "start_date_pre = '2021-07-01'\n",
    "end_date_pre = '2022-01-01'\n",
    "start_date_post = '2022-01-01'\n",
    "end_date_post = '2022-07-01'"
   ]
  },
  {
   "cell_type": "code",
   "execution_count": null,
   "id": "8070277d-2713-44ed-80e3-0116eae31038",
   "metadata": {},
   "outputs": [],
   "source": [
    "apple_pre = yf.download('AAPL', start=start_date_pre, end=end_date_pre)\n",
    "apple_post = yf.download('AAPL', start=start_date_post, end=end_date_post)"
   ]
  },
  {
   "cell_type": "code",
   "execution_count": null,
   "id": "639de138-b720-43e1-81f0-6086931d5f2e",
   "metadata": {},
   "outputs": [],
   "source": [
    "microsoft_pre = yf.download('MSFT', start=start_date_pre, end=end_date_pre)\n",
    "microsoft_post = yf.download('MSFT', start=start_date_post, end=end_date_post)"
   ]
  }
 ],
 "metadata": {
  "kernelspec": {
   "display_name": "Python 3 (ipykernel)",
   "language": "python",
   "name": "python3"
  },
  "language_info": {
   "codemirror_mode": {
    "name": "ipython",
    "version": 3
   },
   "file_extension": ".py",
   "mimetype": "text/x-python",
   "name": "python",
   "nbconvert_exporter": "python",
   "pygments_lexer": "ipython3",
   "version": "3.12.4"
  }
 },
 "nbformat": 4,
 "nbformat_minor": 5
}
