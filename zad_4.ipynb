{
 "cells": [
  {
   "cell_type": "markdown",
   "id": "07080ba3-d55b-43f9-872e-38ea51921fae",
   "metadata": {},
   "source": [
    "### Wybór indeksu giełdowego\n",
    "\n",
    "Wybieram niemiecki indeks giełdowy DAX (Deutscher Aktienindex), który jest jednym z najważniejszych wskaźników rynku akcji w Niemczech."
   ]
  },
  {
   "cell_type": "code",
   "execution_count": 3,
   "id": "b228a4b7-4109-4427-93b5-71c46a91ba97",
   "metadata": {},
   "outputs": [],
   "source": [
    "# Zaimportowanie potrzebnych bibliotek\n",
    "\n",
    "import pandas as pd\n",
    "import numpy as np\n",
    "import matplotlib.pyplot as plt\n",
    "import yfinance as yf"
   ]
  },
  {
   "cell_type": "code",
   "execution_count": 4,
   "id": "2dcca384-c3ab-4bc0-a664-03570030639c",
   "metadata": {},
   "outputs": [
    {
     "name": "stderr",
     "output_type": "stream",
     "text": [
      "[*********************100%%**********************]  1 of 1 completed\n"
     ]
    }
   ],
   "source": [
    "# Pobranie danych dla indeksu DAX i jego składników\n",
    "\n",
    "dax_index = yf.download('^GDAXI', start='2023-05-01', end='2023-06-30')"
   ]
  },
  {
   "cell_type": "code",
   "execution_count": 21,
   "id": "6904918e-d951-461a-a4d4-42297e9a82de",
   "metadata": {},
   "outputs": [],
   "source": [
    "dax_components = [\n",
    "    'ADS.DE', 'AIR.DE', 'ALV.DE', 'BAS.DE', 'BAYN.DE', 'BEI.DE', 'BMW.DE', 'BNR.DE', 'CON.DE', \n",
    "    '1COV.DE', 'DTG.DE', 'DTE.DE', 'DWNI.DE', 'EOAN.DE', 'FME.DE', 'FRE.DE', 'HEI.DE', \n",
    "    'HEN3.DE', 'HFG.DE', 'IFX.DE', 'LIN.DE', 'MRK.DE', 'MTX.DE', 'MUV2.DE', 'PUM.DE', 'QIA.DE', \n",
    "    'RWE.DE', 'SAP.DE', 'SIE.DE', 'SY1.DE', 'SHL.DE', 'SRT3.DE', 'VOW3.DE', 'VNA.DE', 'WCH.DE', \n",
    "    'ZAL.DE', 'HNR1.DE'\n",
    "]"
   ]
  },
  {
   "cell_type": "code",
   "execution_count": 22,
   "id": "74af4ec0-2fed-449f-aa80-a59eee9d949b",
   "metadata": {},
   "outputs": [
    {
     "name": "stderr",
     "output_type": "stream",
     "text": [
      "[*********************100%%**********************]  37 of 37 completed\n"
     ]
    }
   ],
   "source": [
    "# Pobranie danych dla składników indeksu\n",
    "\n",
    "components_data = yf.download(dax_components, start='2023-05-01', end='2023-06-30')['Adj Close']"
   ]
  },
  {
   "cell_type": "code",
   "execution_count": 23,
   "id": "65093bb5-8549-4321-8509-6e8add8a44b0",
   "metadata": {},
   "outputs": [],
   "source": [
    "# Pobranie kapitalizacji rynkowej każdej spółki\n",
    "\n",
    "market_caps = {}\n",
    "for ticker in dax_components:\n",
    "    stock = yf.Ticker(ticker)\n",
    "    market_caps[ticker] = stock.info['marketCap']"
   ]
  },
  {
   "cell_type": "markdown",
   "id": "ef299c50-1d88-45d7-883e-976dfc26b0c7",
   "metadata": {},
   "source": [
    "### Typ indeksu\n",
    "\n",
    "Indeks DAX jest indeksem dochodowym (total return index), ważonym kapitalizacją rynkową. Uwzględnia zarówno zmiany cen akcji, jak i dochody z dywidend."
   ]
  },
  {
   "cell_type": "markdown",
   "id": "e878e998-3d27-48c5-ae87-23c152aac730",
   "metadata": {},
   "source": [
    "### Replikacja indeksu za pomocą jego składników\n",
    "\n",
    "Do replikacji indeksu DAX użyję składników tego indeksu, dostępnych na stronie marketscreener. DAX składa się z 40 największych spółek notowanych na giełdzie we Frankfurcie, niestety wystąpił problem z pobraniem danych trzech z nich, dlatego uwzględnie 37 spółek.\n",
    "\n",
    "Metoda kalkulacji:\n",
    "\n",
    "- Składniki indeksu DAX są ważone kapitalizacją rynkową.\n",
    "- Użyję kapitalizacji rynkowej każdej spółki do obliczenia jej wagi w indeksie.\n",
    "- Następnie, za pomocą tych wag, obliczę wartość zreplikowanego indeksu."
   ]
  },
  {
   "cell_type": "code",
   "execution_count": 35,
   "id": "ed6c134c-1fb8-4133-87bd-d2abfd58aa17",
   "metadata": {},
   "outputs": [
    {
     "name": "stdout",
     "output_type": "stream",
     "text": [
      "           Market Cap    Weight\n",
      "ADS.DE    38566584320  0.022984\n",
      "AIR.DE   117151662080  0.069818\n",
      "ALV.DE   100604968960  0.059957\n",
      "BAS.DE    40199192576  0.023957\n",
      "BAYN.DE   25680562176  0.015305\n",
      "BEI.DE    32219639808  0.019202\n",
      "BMW.DE    55638171648  0.033158\n",
      "BNR.DE     9385024512  0.005593\n",
      "CON.DE    10916327424  0.006506\n",
      "1COV.DE    9389814784  0.005596\n",
      "DTG.DE    29542416384  0.017606\n",
      "DTE.DE   113512529920  0.067649\n",
      "DWNI.DE    6970178560  0.004154\n",
      "EOAN.DE   32502108160  0.019370\n",
      "FME.DE    10759453696  0.006412\n",
      "FRE.DE    16125474816  0.009610\n",
      "HEI.DE    17445754880  0.010397\n",
      "HEN3.DE   32669618176  0.019470\n",
      "HFG.DE      898332800  0.000535\n",
      "IFX.DE    46684057600  0.027822\n",
      "LIN.DE   197640224768  0.117787\n",
      "MRK.DE    73542696960  0.043829\n",
      "MTX.DE    12098452480  0.007210\n",
      "MUV2.DE   62306340864  0.037132\n",
      "PUM.DE     6647123968  0.003961\n",
      "QIA.DE     9222371328  0.005496\n",
      "RWE.DE    24851728384  0.014811\n",
      "SAP.DE   205432471552  0.122430\n",
      "SIE.DE   133054128128  0.079296\n",
      "SY1.DE    16129688576  0.009613\n",
      "SHL.DE    58657808384  0.034958\n",
      "SRT3.DE   15026776064  0.008955\n",
      "VOW3.DE   55454314496  0.033049\n",
      "VNA.DE    21932054528  0.013071\n",
      "WCH.DE     5086193152  0.003031\n",
      "ZAL.DE     5921074176  0.003529\n",
      "HNR1.DE   28087040000  0.016739\n"
     ]
    }
   ],
   "source": [
    "# Przekształcenie wag do formatu DataFrame\n",
    "\n",
    "market_caps_df = pd.DataFrame.from_dict(market_caps, orient='index', columns=['Market Cap'])\n",
    "total_market_cap = market_caps_df['Market Cap'].sum()\n",
    "market_caps_df['Weight'] = market_caps_df['Market Cap'] / total_market_cap\n",
    "\n",
    "print(market_caps_df)"
   ]
  },
  {
   "cell_type": "code",
   "execution_count": 36,
   "id": "9d2b4c7e-1d91-4ac2-bb91-2d9dbca6be33",
   "metadata": {},
   "outputs": [],
   "source": [
    "# Obliczenie wartości zreplikowanego indeksu\n",
    "\n",
    "replicated_index = (components_data * market_caps_df['Weight']).sum(axis=1)"
   ]
  },
  {
   "cell_type": "markdown",
   "id": "cd6d1d8c-6c96-4340-9829-2569ceb8324f",
   "metadata": {},
   "source": [
    "### Porównanie wartości indeksu ze stworzonym benchmarkiem na przestrzeni 30 dni\n",
    "\n",
    "Pobiorę dane z ostatnich 30 dni dla wszystkich składników indeksu DAX oraz samego indeksu. Następnie porównam wartości oryginalnego indeksu z wartościami zreplikowanego benchmarku."
   ]
  },
  {
   "cell_type": "code",
   "execution_count": 37,
   "id": "8326a2b0-3b0d-4721-aaec-d411f1a8e5cb",
   "metadata": {},
   "outputs": [],
   "source": [
    "# Porównanie wartości oryginalnego indeksu DAX i zreplikowanego benchmarku\n",
    "\n",
    "comparison_df = pd.DataFrame({\n",
    "    'DAX': dax_index['Adj Close'],\n",
    "    'Replicated DAX': replicated_index\n",
    "})"
   ]
  },
  {
   "cell_type": "code",
   "execution_count": 38,
   "id": "504470b8-13b1-484a-ab2f-0211e7a7f7fc",
   "metadata": {},
   "outputs": [
    {
     "name": "stdout",
     "output_type": "stream",
     "text": [
      "                     DAX  Replicated DAX\n",
      "Date                                    \n",
      "2023-05-02  15726.940430      137.352964\n",
      "2023-05-03  15815.059570      137.999167\n",
      "2023-05-04  15734.240234      136.613728\n",
      "2023-05-05  15961.019531      138.483903\n",
      "2023-05-08  15952.830078      138.666216\n",
      "2023-05-09  15955.480469      138.705099\n",
      "2023-05-10  15896.230469      138.003616\n",
      "2023-05-11  15834.910156      138.449015\n",
      "2023-05-12  15913.820312      139.035371\n",
      "2023-05-15  15917.240234      138.589566\n",
      "2023-05-16  15897.929688      138.403539\n",
      "2023-05-17  15951.299805      139.002903\n",
      "2023-05-18  16163.360352      140.518752\n",
      "2023-05-19  16275.379883      141.787980\n",
      "2023-05-22  16223.990234      140.998398\n",
      "2023-05-23  16152.860352      139.243452\n",
      "2023-05-24  15842.129883      137.261773\n",
      "2023-05-25  15793.799805      137.797901\n",
      "2023-05-26  15983.969727      138.912354\n",
      "2023-05-29  15952.730469      138.453348\n",
      "2023-05-30  15908.910156      138.056310\n",
      "2023-05-31  15664.019531      137.086673\n",
      "2023-06-01  15853.660156      138.263953\n",
      "2023-06-02  16051.230469      140.588155\n",
      "2023-06-05  15963.889648      140.229804\n",
      "2023-06-06  15992.440430      140.442239\n",
      "2023-06-07  15960.559570      139.908912\n",
      "2023-06-08  15989.959961      139.645044\n",
      "2023-06-09  15949.839844      139.321794\n",
      "2023-06-12  16097.870117      140.385453\n",
      "2023-06-13  16230.679688      142.247754\n",
      "2023-06-14  16310.790039      142.681858\n",
      "2023-06-15  16290.120117      142.607897\n",
      "2023-06-16  16357.629883      142.667753\n",
      "2023-06-19  16201.200195      141.007303\n",
      "2023-06-20  16111.320312      140.356199\n",
      "2023-06-21  16023.129883      139.809343\n",
      "2023-06-22  15988.160156      139.880910\n",
      "2023-06-23  15829.940430      139.323963\n",
      "2023-06-26  15813.059570      139.208275\n",
      "2023-06-27  15846.860352      139.570109\n",
      "2023-06-28  15949.000000      140.226604\n",
      "2023-06-29  15946.719727      140.584305\n"
     ]
    }
   ],
   "source": [
    "# Wyświetlenie porównania\n",
    "\n",
    "print(comparison_df)"
   ]
  },
  {
   "cell_type": "markdown",
   "id": "9eac8df0-180f-4b30-8b58-5a52d50c4ba2",
   "metadata": {},
   "source": [
    "### Ocena stopnia dopasowania\n",
    "\n",
    "Do oceny stopnia dopasowania wykorzystam wskaźnik korelacji Pearsona oraz średni błąd bezwzględny (MAE - Mean Absolute Error)."
   ]
  },
  {
   "cell_type": "code",
   "execution_count": 31,
   "id": "a78af528-d4f3-46a0-9aa2-29db3415063c",
   "metadata": {},
   "outputs": [],
   "source": [
    "# Wskaźnik korelacji Pearsona\n",
    "\n",
    "correlation = comparison_df.corr().iloc[0, 1]"
   ]
  },
  {
   "cell_type": "code",
   "execution_count": 32,
   "id": "cafeb977-3af7-4cdb-b578-4ed82a62168d",
   "metadata": {},
   "outputs": [],
   "source": [
    "# Średni błąd bezwzględny\n",
    "\n",
    "mae = np.mean(np.abs(comparison_df['DAX'] - comparison_df['Replicated DAX']))"
   ]
  },
  {
   "cell_type": "markdown",
   "id": "b088ac21-2d93-4e36-8eb8-436b5ff31c6c",
   "metadata": {},
   "source": [
    "### Wizualizacja\n",
    "\n",
    "Na wspólnym wykresie umieściłem oryginalne i zreplikowane wartości indeksu."
   ]
  },
  {
   "cell_type": "code",
   "execution_count": 33,
   "id": "b98da615-1366-4495-801e-f053052d9ebc",
   "metadata": {},
   "outputs": [
    {
     "data": {
      "image/png": "[encoded data removed]",
      "text/plain": [
       "<Figure size 1400x700 with 1 Axes>"
      ]
     },
     "metadata": {},
     "output_type": "display_data"
    }
   ],
   "source": [
    "# Wykres\n",
    "\n",
    "plt.figure(figsize=(14, 7))\n",
    "plt.plot(comparison_df['DAX'], label='DAX', color='blue')\n",
    "plt.plot(comparison_df['Replicated DAX'], label='Replicated DAX', color='red', linestyle='--')\n",
    "plt.title('Comparison of DAX and Replicated DAX')\n",
    "plt.xlabel('Date')\n",
    "plt.ylabel('Index Value')\n",
    "plt.legend()\n",
    "plt.grid(True)\n",
    "plt.show()"
   ]
  },
  {
   "cell_type": "code",
   "execution_count": 34,
   "id": "db4ba425-0c80-45cd-921e-c310b138b72a",
   "metadata": {},
   "outputs": [
    {
     "name": "stdout",
     "output_type": "stream",
     "text": [
      "Pearson Correlation: 0.8937637330925826\n",
      "Mean Absolute Error (MAE): 15843.670517671602\n"
     ]
    }
   ],
   "source": [
    "print(f\"Pearson Correlation: {correlation}\")\n",
    "print(f\"Mean Absolute Error (MAE): {mae}\")"
   ]
  },
  {
   "cell_type": "markdown",
   "id": "8cd4e133-19dd-4321-b29b-58c29ade0b72",
   "metadata": {},
   "source": [
    "### Dyskusja na temat warunków koniecznych do dokładnej replikacji\n",
    "\n",
    "W sekcji dyskusji przedyskutuję warunki, które muszą być spełnione, aby replikacja była bardzo dokładna."
   ]
  },
  {
   "cell_type": "markdown",
   "id": "8688cfb9-41b8-4532-b7b2-0d9e7a978d51",
   "metadata": {},
   "source": [
    "Aby replikacja indeksu była bardzo dokładna, należy spełnić kilka warunków:\n",
    "\n",
    "1. ### Dokładne dane dotyczące kapitalizacji rynkowej:\n",
    "  \n",
    "Wagi spółek muszą być dokładnie oszacowane na podstawie aktualnych danych.\n",
    "\n",
    "2. ### Aktualizacja składników:\n",
    "\n",
    "Skład indeksu musi być regularnie aktualizowany, aby odzwierciedlać zmiany w spółkach (np. wchodzenie nowych spółek do indeksu, wychodzenie spółek z indeksu).\n",
    "\n",
    "3. ### Uwzględnienie dywidend:\n",
    "\n",
    "Ponieważ DAX jest indeksem dochodowym, należy uwzględnić dywidendy wypłacane przez spółki.\n",
    "\n",
    "4. ### Płynność i koszty transakcyjne:\n",
    "\n",
    "Należy brać pod uwagę płynność akcji oraz koszty transakcyjne, które mogą wpłynąć na efektywność replikacji.\n",
    "\n",
    "5. ### Regularne rebalansowanie portfela:\n",
    "\n",
    "Wagi spółek w indeksie zmieniają się w czasie, dlatego konieczne jest regularne rebalansowanie portfela.\n",
    "\n",
    "---\n",
    "\n",
    "Pasywne fundusze inwestycyjne, takie jak ETF-y, starają się jak najdokładniej replikować indeksy, minimalizując różnice między rzeczywistym portfelem a indeksem, przy jednoczesnym zarządzaniu kosztami i ryzykiem."
   ]
  }
 ],
 "metadata": {
  "kernelspec": {
   "display_name": "Python 3 (ipykernel)",
   "language": "python",
   "name": "python3"
  },
  "language_info": {
   "codemirror_mode": {
    "name": "ipython",
    "version": 3
   },
   "file_extension": ".py",
   "mimetype": "text/x-python",
   "name": "python",
   "nbconvert_exporter": "python",
   "pygments_lexer": "ipython3",
   "version": "3.11.9"
  }
 },
 "nbformat": 4,
 "nbformat_minor": 5
}
